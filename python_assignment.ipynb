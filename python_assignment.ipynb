{
 "cells": [
  {
   "cell_type": "markdown",
   "metadata": {
    "collapsed": false
   },
   "source": [
    "# Overview\n",
    "This assignment is to test a few key attributes we are looking for in a new team member. Most of these questions are not realistic, however, we hope that they serve as a way for you to demonstrate how you work and organise yourself. The questions are intentionally brief and simple, since we know that this is not the only job opportunity you are exploring."
   ]
  },
  {
   "cell_type": "markdown",
   "metadata": {
    "collapsed": false
   },
   "source": [
    "### Performance\n",
    "\n",
    "Suppose the `get_resource_identifier` function interrogates some cloud infrastructure to resolve the resource identifier from its name. Note that it takes a long time for the call to finish resolving the name.\n",
    "\n",
    "Now imagine that we need to resolve the resource by its name multiple times during deployment of infrastructure. How can we speed this up without modifying the body of the `get_resource_identifier` function? Remember, you have no control over how quickly the cloud provider can respond to your API call.\n"
   ]
  },
  {
   "cell_type": "code",
   "execution_count": 3,
   "metadata": {
    "collapsed": false
   },
   "outputs": [
    {
     "name": "stdout",
     "output_type": "stream",
     "text": [
      "L9UKvnomjq\n"
     ]
    },
    {
     "name": "stdout",
     "output_type": "stream",
     "text": [
      "7U9eyOv7M\n"
     ]
    },
    {
     "name": "stdout",
     "output_type": "stream",
     "text": [
      "L9UKvnomjq\n"
     ]
    },
    {
     "name": "stdout",
     "output_type": "stream",
     "text": [
      "Not found\n"
     ]
    },
    {
     "name": "stdout",
     "output_type": "stream",
     "text": [
      "7U9eyOv7M\n"
     ]
    },
    {
     "name": "stdout",
     "output_type": "stream",
     "text": [
      "L9UKvnomjq\n"
     ]
    },
    {
     "name": "stdout",
     "output_type": "stream",
     "text": [
      "7U9eyOv7M\n"
     ]
    },
    {
     "name": "stdout",
     "output_type": "stream",
     "text": [
      "L9UKvnomjq\n"
     ]
    },
    {
     "name": "stdout",
     "output_type": "stream",
     "text": [
      "Not found\n"
     ]
    },
    {
     "name": "stdout",
     "output_type": "stream",
     "text": [
      "7U9eyOv7M\n"
     ]
    },
    {
     "name": "stdout",
     "output_type": "stream",
     "text": [
      "L9UKvnomjq\n"
     ]
    },
    {
     "name": "stdout",
     "output_type": "stream",
     "text": [
      "7U9eyOv7M\n"
     ]
    },
    {
     "name": "stdout",
     "output_type": "stream",
     "text": [
      "L9UKvnomjq\n"
     ]
    },
    {
     "name": "stdout",
     "output_type": "stream",
     "text": [
      "Not found\n"
     ]
    },
    {
     "name": "stdout",
     "output_type": "stream",
     "text": [
      "7U9eyOv7M\n"
     ]
    },
    {
     "name": "stdout",
     "output_type": "stream",
     "text": [
      "L9UKvnomjq\n"
     ]
    },
    {
     "name": "stdout",
     "output_type": "stream",
     "text": [
      "7U9eyOv7M\n"
     ]
    },
    {
     "name": "stdout",
     "output_type": "stream",
     "text": [
      "L9UKvnomjq\n"
     ]
    },
    {
     "name": "stdout",
     "output_type": "stream",
     "text": [
      "Not found\n"
     ]
    },
    {
     "name": "stdout",
     "output_type": "stream",
     "text": [
      "7U9eyOv7M\n"
     ]
    },
    {
     "name": "stdout",
     "output_type": "stream",
     "text": [
      "L9UKvnomjq\n"
     ]
    },
    {
     "name": "stdout",
     "output_type": "stream",
     "text": [
      "7U9eyOv7M\n"
     ]
    },
    {
     "name": "stdout",
     "output_type": "stream",
     "text": [
      "L9UKvnomjq\n"
     ]
    },
    {
     "name": "stdout",
     "output_type": "stream",
     "text": [
      "Not found\n"
     ]
    },
    {
     "name": "stdout",
     "output_type": "stream",
     "text": [
      "7U9eyOv7M\n"
     ]
    },
    {
     "name": "stdout",
     "output_type": "stream",
     "text": [
      "L9UKvnomjq\n"
     ]
    },
    {
     "name": "stdout",
     "output_type": "stream",
     "text": [
      "7U9eyOv7M\n"
     ]
    },
    {
     "ename": "KeyboardInterrupt",
     "evalue": "",
     "output_type": "error",
     "traceback": [
      "\u001b[0;31m---------------------------------------------------------------------------\u001b[0m",
      "\u001b[0;31mKeyboardInterrupt\u001b[0m                         Traceback (most recent call last)",
      "\u001b[0;32m<ipython-input-3-a7b4faecadbb>\u001b[0m in \u001b[0;36m<module>\u001b[0;34m\u001b[0m\n\u001b[1;32m     11\u001b[0m     \u001b[0mprint\u001b[0m\u001b[0;34m(\u001b[0m\u001b[0mget_resource_identifier\u001b[0m\u001b[0;34m(\u001b[0m\u001b[0;34m'foo'\u001b[0m\u001b[0;34m)\u001b[0m\u001b[0;34m)\u001b[0m\u001b[0;34m\u001b[0m\u001b[0;34m\u001b[0m\u001b[0m\n\u001b[1;32m     12\u001b[0m     \u001b[0mprint\u001b[0m\u001b[0;34m(\u001b[0m\u001b[0mget_resource_identifier\u001b[0m\u001b[0;34m(\u001b[0m\u001b[0;34m'bar'\u001b[0m\u001b[0;34m)\u001b[0m\u001b[0;34m)\u001b[0m\u001b[0;34m\u001b[0m\u001b[0;34m\u001b[0m\u001b[0m\n\u001b[0;32m---> 13\u001b[0;31m     \u001b[0mprint\u001b[0m\u001b[0;34m(\u001b[0m\u001b[0mget_resource_identifier\u001b[0m\u001b[0;34m(\u001b[0m\u001b[0;34m'foo'\u001b[0m\u001b[0;34m)\u001b[0m\u001b[0;34m)\u001b[0m\u001b[0;34m\u001b[0m\u001b[0;34m\u001b[0m\u001b[0m\n\u001b[0m\u001b[1;32m     14\u001b[0m     \u001b[0mprint\u001b[0m\u001b[0;34m(\u001b[0m\u001b[0mget_resource_identifier\u001b[0m\u001b[0;34m(\u001b[0m\u001b[0;34m'zoo'\u001b[0m\u001b[0;34m)\u001b[0m\u001b[0;34m)\u001b[0m\u001b[0;34m\u001b[0m\u001b[0;34m\u001b[0m\u001b[0m\n\u001b[1;32m     15\u001b[0m     \u001b[0mprint\u001b[0m\u001b[0;34m(\u001b[0m\u001b[0mget_resource_identifier\u001b[0m\u001b[0;34m(\u001b[0m\u001b[0;34m'bar'\u001b[0m\u001b[0;34m)\u001b[0m\u001b[0;34m)\u001b[0m\u001b[0;34m\u001b[0m\u001b[0;34m\u001b[0m\u001b[0m\n",
      "\u001b[0;32m<ipython-input-3-a7b4faecadbb>\u001b[0m in \u001b[0;36mget_resource_identifier\u001b[0;34m(name)\u001b[0m\n\u001b[1;32m      1\u001b[0m \u001b[0;32mimport\u001b[0m \u001b[0mtime\u001b[0m\u001b[0;34m\u001b[0m\u001b[0;34m\u001b[0m\u001b[0m\n\u001b[1;32m      2\u001b[0m \u001b[0;32mdef\u001b[0m \u001b[0mget_resource_identifier\u001b[0m\u001b[0;34m(\u001b[0m\u001b[0mname\u001b[0m\u001b[0;34m)\u001b[0m\u001b[0;34m:\u001b[0m\u001b[0;34m\u001b[0m\u001b[0;34m\u001b[0m\u001b[0m\n\u001b[0;32m----> 3\u001b[0;31m     \u001b[0mtime\u001b[0m\u001b[0;34m.\u001b[0m\u001b[0msleep\u001b[0m\u001b[0;34m(\u001b[0m\u001b[0;36m1\u001b[0m\u001b[0;34m)\u001b[0m\u001b[0;31m#simulate the delay\u001b[0m\u001b[0;34m\u001b[0m\u001b[0;34m\u001b[0m\u001b[0m\n\u001b[0m\u001b[1;32m      4\u001b[0m     \u001b[0;32mif\u001b[0m \u001b[0mname\u001b[0m \u001b[0;32mis\u001b[0m \u001b[0;34m'foo'\u001b[0m\u001b[0;34m:\u001b[0m\u001b[0;34m\u001b[0m\u001b[0;34m\u001b[0m\u001b[0m\n\u001b[1;32m      5\u001b[0m         \u001b[0;32mreturn\u001b[0m \u001b[0;34m'L9UKvnomjq'\u001b[0m\u001b[0;34m\u001b[0m\u001b[0;34m\u001b[0m\u001b[0m\n",
      "\u001b[0;31mKeyboardInterrupt\u001b[0m: "
     ]
    }
   ],
   "source": [
    "import time\n",
    "def get_resource_identifier(name):\n",
    "    time.sleep(1)#simulate the delay\n",
    "    if name is 'foo':\n",
    "        return 'L9UKvnomjq'\n",
    "    if name is 'bar':\n",
    "        return '7U9eyOv7M'\n",
    "    return 'Not found'\n",
    "\n",
    "for _ in range(0,100):\n",
    "    print(get_resource_identifier('foo'))\n",
    "    print(get_resource_identifier('bar'))\n",
    "    print(get_resource_identifier('foo'))\n",
    "    print(get_resource_identifier('zoo'))\n",
    "    print(get_resource_identifier('bar'))"
   ]
  },
  {
   "cell_type": "code",
   "execution_count": 4,
   "metadata": {
    "collapsed": false
   },
   "outputs": [
    {
     "name": "stdout",
     "output_type": "stream",
     "text": [
      "L9UKvnomjq\n"
     ]
    },
    {
     "name": "stdout",
     "output_type": "stream",
     "text": [
      "7U9eyOv7M\n",
      "L9UKvnomjq\n"
     ]
    },
    {
     "name": "stdout",
     "output_type": "stream",
     "text": [
      "Not found\n",
      "7U9eyOv7M\n",
      "L9UKvnomjq\n",
      "7U9eyOv7M\n",
      "L9UKvnomjq\n",
      "Not found\n",
      "7U9eyOv7M\n",
      "L9UKvnomjq\n",
      "7U9eyOv7M\n",
      "L9UKvnomjq\n",
      "Not found\n",
      "7U9eyOv7M\n",
      "L9UKvnomjq\n",
      "7U9eyOv7M\n",
      "L9UKvnomjq\n",
      "Not found\n",
      "7U9eyOv7M\n",
      "L9UKvnomjq\n",
      "7U9eyOv7M\n",
      "L9UKvnomjq\n",
      "Not found\n",
      "7U9eyOv7M\n",
      "L9UKvnomjq\n",
      "7U9eyOv7M\n",
      "L9UKvnomjq\n",
      "Not found\n",
      "7U9eyOv7M\n",
      "L9UKvnomjq\n",
      "7U9eyOv7M\n",
      "L9UKvnomjq\n",
      "Not found\n",
      "7U9eyOv7M\n",
      "L9UKvnomjq\n",
      "7U9eyOv7M\n",
      "L9UKvnomjq\n",
      "Not found\n",
      "7U9eyOv7M\n",
      "L9UKvnomjq\n",
      "7U9eyOv7M\n",
      "L9UKvnomjq\n",
      "Not found\n",
      "7U9eyOv7M\n",
      "L9UKvnomjq\n",
      "7U9eyOv7M\n",
      "L9UKvnomjq\n",
      "Not found\n",
      "7U9eyOv7M\n",
      "L9UKvnomjq\n",
      "7U9eyOv7M\n",
      "L9UKvnomjq\n",
      "Not found\n",
      "7U9eyOv7M\n",
      "L9UKvnomjq\n",
      "7U9eyOv7M\n",
      "L9UKvnomjq\n",
      "Not found\n",
      "7U9eyOv7M\n",
      "L9UKvnomjq\n",
      "7U9eyOv7M\n",
      "L9UKvnomjq\n",
      "Not found\n",
      "7U9eyOv7M\n",
      "L9UKvnomjq\n",
      "7U9eyOv7M\n",
      "L9UKvnomjq\n",
      "Not found\n",
      "7U9eyOv7M\n",
      "L9UKvnomjq\n",
      "7U9eyOv7M\n",
      "L9UKvnomjq\n",
      "Not found\n",
      "7U9eyOv7M\n",
      "L9UKvnomjq\n",
      "7U9eyOv7M\n",
      "L9UKvnomjq\n",
      "Not found\n",
      "7U9eyOv7M\n",
      "L9UKvnomjq\n",
      "7U9eyOv7M\n",
      "L9UKvnomjq\n",
      "Not found\n",
      "7U9eyOv7M\n",
      "L9UKvnomjq\n",
      "7U9eyOv7M\n",
      "L9UKvnomjq\n",
      "Not found\n",
      "7U9eyOv7M\n",
      "L9UKvnomjq\n",
      "7U9eyOv7M\n",
      "L9UKvnomjq\n",
      "Not found\n",
      "7U9eyOv7M\n",
      "L9UKvnomjq\n",
      "7U9eyOv7M\n",
      "L9UKvnomjq\n",
      "Not found\n",
      "7U9eyOv7M\n",
      "L9UKvnomjq\n",
      "7U9eyOv7M\n",
      "L9UKvnomjq\n",
      "Not found\n",
      "7U9eyOv7M\n",
      "L9UKvnomjq\n",
      "7U9eyOv7M\n",
      "L9UKvnomjq\n",
      "Not found\n",
      "7U9eyOv7M\n",
      "L9UKvnomjq\n",
      "7U9eyOv7M\n",
      "L9UKvnomjq\n",
      "Not found\n",
      "7U9eyOv7M\n",
      "L9UKvnomjq\n",
      "7U9eyOv7M\n",
      "L9UKvnomjq\n",
      "Not found\n",
      "7U9eyOv7M\n",
      "L9UKvnomjq\n",
      "7U9eyOv7M\n",
      "L9UKvnomjq\n",
      "Not found\n",
      "7U9eyOv7M\n",
      "L9UKvnomjq\n",
      "7U9eyOv7M\n",
      "L9UKvnomjq\n",
      "Not found\n",
      "7U9eyOv7M\n",
      "L9UKvnomjq\n",
      "7U9eyOv7M\n",
      "L9UKvnomjq\n",
      "Not found\n",
      "7U9eyOv7M\n",
      "L9UKvnomjq\n",
      "7U9eyOv7M\n",
      "L9UKvnomjq\n",
      "Not found\n",
      "7U9eyOv7M\n",
      "L9UKvnomjq\n",
      "7U9eyOv7M\n",
      "L9UKvnomjq\n",
      "Not found\n",
      "7U9eyOv7M\n",
      "L9UKvnomjq\n",
      "7U9eyOv7M\n",
      "L9UKvnomjq\n",
      "Not found\n",
      "7U9eyOv7M\n",
      "L9UKvnomjq\n",
      "7U9eyOv7M\n",
      "L9UKvnomjq\n",
      "Not found\n",
      "7U9eyOv7M\n",
      "L9UKvnomjq\n",
      "7U9eyOv7M\n",
      "L9UKvnomjq\n",
      "Not found\n",
      "7U9eyOv7M\n",
      "L9UKvnomjq\n",
      "7U9eyOv7M\n",
      "L9UKvnomjq\n",
      "Not found\n",
      "7U9eyOv7M\n",
      "L9UKvnomjq\n",
      "7U9eyOv7M\n",
      "L9UKvnomjq\n",
      "Not found\n",
      "7U9eyOv7M\n",
      "L9UKvnomjq\n",
      "7U9eyOv7M\n",
      "L9UKvnomjq\n",
      "Not found\n",
      "7U9eyOv7M\n",
      "L9UKvnomjq\n",
      "7U9eyOv7M\n",
      "L9UKvnomjq\n",
      "Not found\n",
      "7U9eyOv7M\n",
      "L9UKvnomjq\n",
      "7U9eyOv7M\n",
      "L9UKvnomjq\n",
      "Not found\n",
      "7U9eyOv7M\n",
      "L9UKvnomjq\n",
      "7U9eyOv7M\n",
      "L9UKvnomjq\n",
      "Not found\n",
      "7U9eyOv7M\n",
      "L9UKvnomjq\n",
      "7U9eyOv7M\n",
      "L9UKvnomjq\n",
      "Not found\n",
      "7U9eyOv7M\n",
      "L9UKvnomjq\n",
      "7U9eyOv7M\n",
      "L9UKvnomjq\n",
      "Not found\n",
      "7U9eyOv7M\n",
      "L9UKvnomjq\n",
      "7U9eyOv7M\n",
      "L9UKvnomjq\n",
      "Not found\n",
      "7U9eyOv7M\n",
      "L9UKvnomjq\n",
      "7U9eyOv7M\n",
      "L9UKvnomjq\n",
      "Not found\n",
      "7U9eyOv7M\n",
      "L9UKvnomjq\n",
      "7U9eyOv7M\n",
      "L9UKvnomjq\n",
      "Not found\n",
      "7U9eyOv7M\n",
      "L9UKvnomjq\n",
      "7U9eyOv7M\n",
      "L9UKvnomjq\n",
      "Not found\n",
      "7U9eyOv7M\n",
      "L9UKvnomjq\n",
      "7U9eyOv7M\n",
      "L9UKvnomjq\n",
      "Not found\n",
      "7U9eyOv7M\n",
      "L9UKvnomjq\n",
      "7U9eyOv7M\n",
      "L9UKvnomjq\n",
      "Not found\n",
      "7U9eyOv7M\n",
      "L9UKvnomjq\n",
      "7U9eyOv7M\n",
      "L9UKvnomjq\n",
      "Not found\n",
      "7U9eyOv7M\n",
      "L9UKvnomjq\n",
      "7U9eyOv7M\n",
      "L9UKvnomjq\n",
      "Not found\n",
      "7U9eyOv7M\n",
      "L9UKvnomjq\n",
      "7U9eyOv7M\n",
      "L9UKvnomjq\n",
      "Not found\n",
      "7U9eyOv7M\n",
      "L9UKvnomjq\n",
      "7U9eyOv7M\n",
      "L9UKvnomjq\n",
      "Not found\n",
      "7U9eyOv7M\n",
      "L9UKvnomjq\n",
      "7U9eyOv7M\n",
      "L9UKvnomjq\n",
      "Not found\n",
      "7U9eyOv7M\n",
      "L9UKvnomjq\n",
      "7U9eyOv7M\n",
      "L9UKvnomjq\n",
      "Not found\n",
      "7U9eyOv7M\n",
      "L9UKvnomjq\n",
      "7U9eyOv7M\n",
      "L9UKvnomjq\n",
      "Not found\n",
      "7U9eyOv7M\n",
      "L9UKvnomjq\n",
      "7U9eyOv7M\n",
      "L9UKvnomjq\n",
      "Not found\n",
      "7U9eyOv7M\n",
      "L9UKvnomjq\n",
      "7U9eyOv7M\n",
      "L9UKvnomjq\n",
      "Not found\n",
      "7U9eyOv7M\n",
      "L9UKvnomjq\n",
      "7U9eyOv7M\n",
      "L9UKvnomjq\n",
      "Not found\n",
      "7U9eyOv7M\n",
      "L9UKvnomjq\n",
      "7U9eyOv7M\n",
      "L9UKvnomjq\n",
      "Not found\n",
      "7U9eyOv7M\n",
      "L9UKvnomjq\n",
      "7U9eyOv7M\n",
      "L9UKvnomjq\n",
      "Not found\n",
      "7U9eyOv7M\n",
      "L9UKvnomjq\n",
      "7U9eyOv7M\n",
      "L9UKvnomjq\n",
      "Not found\n",
      "7U9eyOv7M\n",
      "L9UKvnomjq\n",
      "7U9eyOv7M\n",
      "L9UKvnomjq\n",
      "Not found\n",
      "7U9eyOv7M\n",
      "L9UKvnomjq\n",
      "7U9eyOv7M\n",
      "L9UKvnomjq\n",
      "Not found\n",
      "7U9eyOv7M\n",
      "L9UKvnomjq\n",
      "7U9eyOv7M\n",
      "L9UKvnomjq\n",
      "Not found\n",
      "7U9eyOv7M\n",
      "L9UKvnomjq\n",
      "7U9eyOv7M\n",
      "L9UKvnomjq\n",
      "Not found\n",
      "7U9eyOv7M\n",
      "L9UKvnomjq\n",
      "7U9eyOv7M\n",
      "L9UKvnomjq\n",
      "Not found\n",
      "7U9eyOv7M\n",
      "L9UKvnomjq\n",
      "7U9eyOv7M\n",
      "L9UKvnomjq\n",
      "Not found\n",
      "7U9eyOv7M\n",
      "L9UKvnomjq\n",
      "7U9eyOv7M\n",
      "L9UKvnomjq\n",
      "Not found\n",
      "7U9eyOv7M\n",
      "L9UKvnomjq\n",
      "7U9eyOv7M\n",
      "L9UKvnomjq\n",
      "Not found\n",
      "7U9eyOv7M\n",
      "L9UKvnomjq\n",
      "7U9eyOv7M\n",
      "L9UKvnomjq\n",
      "Not found\n",
      "7U9eyOv7M\n",
      "L9UKvnomjq\n",
      "7U9eyOv7M\n",
      "L9UKvnomjq\n",
      "Not found\n",
      "7U9eyOv7M\n",
      "L9UKvnomjq\n",
      "7U9eyOv7M\n",
      "L9UKvnomjq\n",
      "Not found\n",
      "7U9eyOv7M\n",
      "L9UKvnomjq\n",
      "7U9eyOv7M\n",
      "L9UKvnomjq\n",
      "Not found\n",
      "7U9eyOv7M\n",
      "L9UKvnomjq\n",
      "7U9eyOv7M\n",
      "L9UKvnomjq\n",
      "Not found\n",
      "7U9eyOv7M\n",
      "L9UKvnomjq\n",
      "7U9eyOv7M\n",
      "L9UKvnomjq\n",
      "Not found\n",
      "7U9eyOv7M\n",
      "L9UKvnomjq\n",
      "7U9eyOv7M\n",
      "L9UKvnomjq\n",
      "Not found\n",
      "7U9eyOv7M\n",
      "L9UKvnomjq\n",
      "7U9eyOv7M\n",
      "L9UKvnomjq\n",
      "Not found\n",
      "7U9eyOv7M\n",
      "L9UKvnomjq\n",
      "7U9eyOv7M\n",
      "L9UKvnomjq\n",
      "Not found\n",
      "7U9eyOv7M\n",
      "L9UKvnomjq\n",
      "7U9eyOv7M\n",
      "L9UKvnomjq\n",
      "Not found\n",
      "7U9eyOv7M\n",
      "L9UKvnomjq\n",
      "7U9eyOv7M\n",
      "L9UKvnomjq\n",
      "Not found\n",
      "7U9eyOv7M\n",
      "L9UKvnomjq\n",
      "7U9eyOv7M\n",
      "L9UKvnomjq\n",
      "Not found\n",
      "7U9eyOv7M\n",
      "L9UKvnomjq\n",
      "7U9eyOv7M\n",
      "L9UKvnomjq\n",
      "Not found\n",
      "7U9eyOv7M\n",
      "L9UKvnomjq\n",
      "7U9eyOv7M\n",
      "L9UKvnomjq\n",
      "Not found\n",
      "7U9eyOv7M\n",
      "L9UKvnomjq\n",
      "7U9eyOv7M\n",
      "L9UKvnomjq\n",
      "Not found\n",
      "7U9eyOv7M\n",
      "L9UKvnomjq\n",
      "7U9eyOv7M\n",
      "L9UKvnomjq\n",
      "Not found\n",
      "7U9eyOv7M\n",
      "L9UKvnomjq\n",
      "7U9eyOv7M\n",
      "L9UKvnomjq\n",
      "Not found\n",
      "7U9eyOv7M\n",
      "L9UKvnomjq\n",
      "7U9eyOv7M\n",
      "L9UKvnomjq\n",
      "Not found\n",
      "7U9eyOv7M\n",
      "L9UKvnomjq\n",
      "7U9eyOv7M\n",
      "L9UKvnomjq\n",
      "Not found\n",
      "7U9eyOv7M\n",
      "L9UKvnomjq\n",
      "7U9eyOv7M\n",
      "L9UKvnomjq\n",
      "Not found\n",
      "7U9eyOv7M\n",
      "L9UKvnomjq\n",
      "7U9eyOv7M\n",
      "L9UKvnomjq\n",
      "Not found\n",
      "7U9eyOv7M\n",
      "L9UKvnomjq\n",
      "7U9eyOv7M\n",
      "L9UKvnomjq\n",
      "Not found\n",
      "7U9eyOv7M\n",
      "L9UKvnomjq\n",
      "7U9eyOv7M\n",
      "L9UKvnomjq\n",
      "Not found\n",
      "7U9eyOv7M\n",
      "L9UKvnomjq\n",
      "7U9eyOv7M\n",
      "L9UKvnomjq\n",
      "Not found\n",
      "7U9eyOv7M\n",
      "L9UKvnomjq\n",
      "7U9eyOv7M\n",
      "L9UKvnomjq\n",
      "Not found\n",
      "7U9eyOv7M\n",
      "L9UKvnomjq\n",
      "7U9eyOv7M\n",
      "L9UKvnomjq\n",
      "Not found\n",
      "7U9eyOv7M\n",
      "L9UKvnomjq\n",
      "7U9eyOv7M\n",
      "L9UKvnomjq\n",
      "Not found\n",
      "7U9eyOv7M\n",
      "L9UKvnomjq\n",
      "7U9eyOv7M\n",
      "L9UKvnomjq\n",
      "Not found\n",
      "7U9eyOv7M\n",
      "L9UKvnomjq\n",
      "7U9eyOv7M\n",
      "L9UKvnomjq\n",
      "Not found\n",
      "7U9eyOv7M\n",
      "L9UKvnomjq\n",
      "7U9eyOv7M\n",
      "L9UKvnomjq\n",
      "Not found\n",
      "7U9eyOv7M\n",
      "L9UKvnomjq\n",
      "7U9eyOv7M\n",
      "L9UKvnomjq\n",
      "Not found\n",
      "7U9eyOv7M\n",
      "L9UKvnomjq\n",
      "7U9eyOv7M\n",
      "L9UKvnomjq\n",
      "Not found\n",
      "7U9eyOv7M\n",
      "L9UKvnomjq\n",
      "7U9eyOv7M\n",
      "L9UKvnomjq\n",
      "Not found\n",
      "7U9eyOv7M\n"
     ]
    }
   ],
   "source": [
    "# The simple solution will be to cache the identifier in a dictionary as seen in the function optimised_resource_identifier.\n",
    "# An additional more complex solution would be to using threading to call the function asynchronously\n",
    "ids = {}\n",
    "def optimised_resource_identifier(name):\n",
    "    if name in ids:\n",
    "        return ids[name]\n",
    "    else:\n",
    "        ids[name] = get_resource_identifier(name)\n",
    "        return ids[name]\n",
    "\n",
    "for _ in range(0,100):\n",
    "    print(optimised_resource_identifier('foo'))\n",
    "    print(optimised_resource_identifier('bar'))\n",
    "    print(optimised_resource_identifier('foo'))\n",
    "    print(optimised_resource_identifier('zoo'))\n",
    "    print(optimised_resource_identifier('bar'))"
   ]
  },
  {
   "cell_type": "markdown",
   "metadata": {
    "collapsed": false
   },
   "source": [
    "### Readability and simplicity"
   ]
  },
  {
   "cell_type": "markdown",
   "metadata": {
    "collapsed": false
   },
   "source": [
    "#### Refactor\n",
    "The section below is an opportunity for you to demonstrate how you refactor code into something simpler and more readable. Refactor the code and write some very simple sanity checks to show that the refactored version is equivalent to the ugly version. You may leave out tests where you think it is not needed."
   ]
  },
  {
   "cell_type": "code",
   "execution_count": 5,
   "metadata": {
    "collapsed": false
   },
   "outputs": [
   ],
   "source": [
    "# Don't modify this\n",
    "colours = ['blue','green','yellow','black','orange']\n",
    "fruits = ['berry','apple','banana','currant']\n",
    "# All of the rest below you may modify \n",
    "# as you please to achieve the desired output"
   ]
  },
  {
   "cell_type": "code",
   "execution_count": 0,
   "metadata": {
    "collapsed": false
   },
   "outputs": [
   ],
   "source": [
    "#ugly\n",
    "for i in range(len(colours)-1,-1,-1):\n",
    "    print(colours[i])\n",
    "\n",
    "#refactor below"
   ]
  },
  {
   "cell_type": "code",
   "execution_count": 6,
   "metadata": {
    "collapsed": false
   },
   "outputs": [
    {
     "name": "stdout",
     "output_type": "stream",
     "text": [
      "orange\n",
      "black\n",
      "yellow\n",
      "green\n",
      "blue\n",
      "orange\n",
      "black\n",
      "yellow\n",
      "green\n",
      "blue\n"
     ]
    }
   ],
   "source": [
    "#Refactored...\n",
    "for i in reversed(colours):\n",
    "    print(i)\n",
    "#Or...\n",
    "print(\"\\n\".join(i for i in reversed(colours)))"
   ]
  },
  {
   "cell_type": "code",
   "execution_count": 0,
   "metadata": {
    "collapsed": false
   },
   "outputs": [
   ],
   "source": [
    "#ugly\n",
    "for i in range(len(colours)):\n",
    "    print(i,colours[i])\n",
    "    \n",
    "#refactor below"
   ]
  },
  {
   "cell_type": "code",
   "execution_count": 7,
   "metadata": {
    "collapsed": false
   },
   "outputs": [
    {
     "name": "stdout",
     "output_type": "stream",
     "text": [
      "0 blue\n",
      "1 green\n",
      "2 yellow\n",
      "3 black\n",
      "4 orange\n"
     ]
    }
   ],
   "source": [
    "#Refactored...\n",
    "for i,v in enumerate(colours):\n",
    "    print(i,v)"
   ]
  },
  {
   "cell_type": "code",
   "execution_count": 0,
   "metadata": {
    "collapsed": false
   },
   "outputs": [
   ],
   "source": [
    "#ugly\n",
    "min_length = min(len(colours),len(fruits))\n",
    "for i in range(min_length):\n",
    "    print(colours[i],fruits[i])\n",
    "    \n",
    "#refactor below"
   ]
  },
  {
   "cell_type": "code",
   "execution_count": 8,
   "metadata": {
    "collapsed": false
   },
   "outputs": [
    {
     "name": "stdout",
     "output_type": "stream",
     "text": [
      "blue berry\n",
      "green apple\n",
      "yellow banana\n",
      "black currant\n"
     ]
    }
   ],
   "source": [
    "#Refactored...\n",
    "for colour,fruit in zip(colours, fruits):\n",
    "    print(colour,fruit)"
   ]
  },
  {
   "cell_type": "code",
   "execution_count": 9,
   "metadata": {
    "collapsed": false
   },
   "outputs": [
   ],
   "source": [
    "#Initialize variables for below\n",
    "a,b,c,d,e,f,g = 1,2,3,4,5,6,7"
   ]
  },
  {
   "cell_type": "code",
   "execution_count": 0,
   "metadata": {
    "collapsed": false
   },
   "outputs": [
   ],
   "source": [
    "#ugly\n",
    "#you may deal with these variables in the abstract\n",
    "#you can give them values if you want to do some\n",
    "#sanity checks\n",
    "if a <= b and f <= g and c<=d and d<=f and b<=c:\n",
    "    print('pass')\n",
    "else:\n",
    "    print('fail')\n",
    "    \n",
    "#refactor below"
   ]
  },
  {
   "cell_type": "code",
   "execution_count": 10,
   "metadata": {
    "collapsed": false
   },
   "outputs": [
    {
     "name": "stdout",
     "output_type": "stream",
     "text": [
      "pass\n"
     ]
    }
   ],
   "source": [
    "#This was tricky. I found that the if statement was checking for a sorted list but had to do a quick google search to find the all keyword\n",
    "#Refactored...\n",
    "l = (a,b,c,d,e,f,g)\n",
    "print( \"pass\" if all(a <= b for a, b in zip(l, l[1:])) else \"fail\" )"
   ]
  },
  {
   "cell_type": "code",
   "execution_count": 11,
   "metadata": {
    "collapsed": false
   },
   "outputs": [
    {
     "name": "stdout",
     "output_type": "stream",
     "text": [
      "pass  does match  pass\n",
      "pass  does match  pass\n",
      "fail  does match  fail\n",
      "pass  does match  pass\n"
     ]
    }
   ],
   "source": [
    "#checks\n",
    "def check(a,b,c,d,e,f,g):    \n",
    "    ans1 = \"\"    \n",
    "    if a <= b and f <= g and c<=d and d<=f and b<=c:\n",
    "        ans1 = \"pass\"\n",
    "    else: \n",
    "        ans1 = \"fail\"\n",
    "            \n",
    "    l = (a,b,c,d,e,f,g)\n",
    "    ans2 = \"pass\" if all(a <= b for a, b in zip(l, l[1:])) else \"fail\"\n",
    "    \n",
    "    if ans1 == ans2:\n",
    "        print(ans1,\" does match \", ans2)\n",
    "    else:\n",
    "        print(ans1,\" does not match \", ans2)  \n",
    "\n",
    "check(1,2,3,4,5,6,7) # pass\n",
    "check(1,2,2,4,4,6,7) # pass\n",
    "check(7,2,3,4,5,6,1) # fail\n",
    "check(0,0,0,0,0,0,0) # pass\n"
   ]
  },
  {
   "cell_type": "markdown",
   "metadata": {
    "collapsed": false
   },
   "source": [
    "#### Implement\n",
    "This section provides an opportunity to demonstrate how you would write some very simple things in a pythonic way."
   ]
  },
  {
   "cell_type": "markdown",
   "metadata": {
    "collapsed": false
   },
   "source": [
    "Task1:"
   ]
  },
  {
   "cell_type": "code",
   "execution_count": 0,
   "metadata": {
    "collapsed": false
   },
   "outputs": [
   ],
   "source": [
    "#Generate the following string from the colours list defined above:\n",
    "# 'blue --> green --> yellow --> black --> orange'"
   ]
  },
  {
   "cell_type": "code",
   "execution_count": 12,
   "metadata": {
    "collapsed": false
   },
   "outputs": [
    {
     "name": "stdout",
     "output_type": "stream",
     "text": [
      "blue --> green --> yellow --> black --> orange\n"
     ]
    }
   ],
   "source": [
    "print(\" --> \".join(colours))"
   ]
  },
  {
   "cell_type": "markdown",
   "metadata": {
    "collapsed": false
   },
   "source": [
    "Task2"
   ]
  },
  {
   "cell_type": "code",
   "execution_count": 14,
   "metadata": {
    "collapsed": false
   },
   "outputs": [
   ],
   "source": [
    "# find the elements that exist in the first list but not the second\n",
    "# and the elements that exist in the second, but not in the first\n",
    "# put this result in into a single list and sort them in ascending order\n",
    "\n",
    "\n",
    "first = [2,2,5,6,7,2,1,8,9,9]\n",
    "second = [2,1,5,6,66,7,77]"
   ]
  },
  {
   "cell_type": "code",
   "execution_count": 15,
   "metadata": {
    "collapsed": false
   },
   "outputs": [
    {
     "name": "stdout",
     "output_type": "stream",
     "text": [
      "[8, 9, 66, 77]\n"
     ]
    }
   ],
   "source": [
    "# create list of elements from first.\n",
    "# concatenate to elements from second\n",
    "# convert to set to remove duplicates\n",
    "# sort the set\n",
    "\n",
    "print( sorted( set( list(x for x in first if x not in second) + list(x for x in second if x not in first) ) ) )"
   ]
  },
  {
   "cell_type": "code",
   "execution_count": 0,
   "metadata": {
    "collapsed": false
   },
   "outputs": [
   ],
   "source": [
   ]
  }
 ],
 "metadata": {
  "kernelspec": {
   "display_name": "Python 3 (system-wide)",
   "language": "python",
   "metadata": {
    "cocalc": {
     "description": "Python 3 programming language",
     "priority": 100,
     "url": "https://www.python.org/"
    }
   },
   "name": "python3"
  },
  "language_info": {
   "codemirror_mode": {
    "name": "ipython",
    "version": 3
   },
   "file_extension": ".py",
   "mimetype": "text/x-python",
   "name": "python",
   "nbconvert_exporter": "python",
   "pygments_lexer": "ipython3",
   "version": "3.6.8"
  }
 },
 "nbformat": 4,
 "nbformat_minor": 0
}